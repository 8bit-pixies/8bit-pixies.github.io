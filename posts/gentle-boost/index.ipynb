{
  "cells": [
    {
      "cell_type": "raw",
      "metadata": {},
      "source": [
        "---\n",
        "title: \"GentleBoost Algorithm\"\n",
        "date: \"2023-09-09\"\n",
        "categories: [code, analysis]\n",
        "---"
      ],
      "id": "d2714124"
    },
    {
      "cell_type": "markdown",
      "metadata": {},
      "source": [
        "Often in academic literature, boosting is introduced through [AdaBoost](https://en.wikipedia.org/wiki/AdaBoost) or maybe sometimes they jump straight into [Gradient Boosting](https://en.wikipedia.org/wiki/Gradient_boosting). In this post, I thought I'll introduce it in a different way, using \"Gentle Boosting\", which is far easier to implement and understand. \n",
        "\n",
        "In Python-esque code, Gentle Boost is implemented as follows:\n",
        "\n",
        "\n",
        "```{py}\n",
        "# with training set, <X, y>\n",
        "learning_penalty = 1/1.1  # a parameter of interest\n",
        "w = np.array([1.0 for record in X.shape[0]])\n",
        "for model in models:\n",
        "\tmodel.fit(X, y, weights=w)\n",
        "\t# update w based on error\n",
        "\t# set record 1 if correctly predicted, -1 if incorrect\n",
        "\tweight_update_factor = ((y == model.predict(X)) * 2) -1\n",
        "\tw = w * np.power(learning_penalty, weight_update_factor)\n",
        "\n",
        "# inference\n",
        "np.mean([model.predict(X) for model in models])\n",
        "```\n",
        "\n",
        "  \n",
        " What's going on here?\n",
        " \n",
        " 1. We train the model based on weights of the observation (higher weights of previous model got the prediction wrong, lower weight if the previous model got it correct)\n",
        " 2. At each step we augment the weights by a fixed pre-known penalty, by `alpha` for correct predictions and `1/alpha` for incorrect predictions.\n",
        " 3. For prediction, simply take the average\n",
        " \n",
        " This works in the gentle boosting framework by using newton steps to update the weights of the model. By having fixed step sizes for updating the weights it ensures that the weights are bounded and outliers won't over-weigh the model. The original formulation uses scaling in the form of `alpha = exp(1)`, based on the expoential objective function. In the above formation the scaling is a parameter of the model. This can be interpretted as a modified objective variation to gentle boost instead.\n",
        " \n",
        " I think this variation is very simple to understand and implement whilst still being somewhat more effective than not using boosting at all. "
      ],
      "id": "a70f5558"
    }
  ],
  "metadata": {
    "kernelspec": {
      "display_name": "Python 3",
      "language": "python",
      "name": "python3"
    }
  },
  "nbformat": 4,
  "nbformat_minor": 5
}